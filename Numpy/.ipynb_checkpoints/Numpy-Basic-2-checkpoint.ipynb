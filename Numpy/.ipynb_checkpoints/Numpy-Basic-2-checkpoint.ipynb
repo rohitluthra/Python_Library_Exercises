{
 "cells": [
  {
   "cell_type": "code",
   "execution_count": 1,
   "metadata": {},
   "outputs": [],
   "source": [
    "import numpy as np\n",
    "currentList = np.array([1,213,546,356,76])"
   ]
  },
  {
   "cell_type": "code",
   "execution_count": 3,
   "metadata": {},
   "outputs": [
    {
     "name": "stdout",
     "output_type": "stream",
     "text": [
      "[[0. 0. 0. 0. 0.]\n",
      " [0. 0. 0. 0. 0.]\n",
      " [0. 0. 0. 0. 0.]\n",
      " [0. 0. 0. 0. 0.]] float64\n"
     ]
    }
   ],
   "source": [
    "zeroArray = np.zeros((4,5))\n",
    "print(zeroArray, zeroArray.dtype)"
   ]
  },
  {
   "cell_type": "code",
   "execution_count": 5,
   "metadata": {},
   "outputs": [
    {
     "name": "stdout",
     "output_type": "stream",
     "text": [
      "[[1. 1. 1. 1. 1.]\n",
      " [1. 1. 1. 1. 1.]\n",
      " [1. 1. 1. 1. 1.]\n",
      " [1. 1. 1. 1. 1.]] float64\n"
     ]
    }
   ],
   "source": [
    "oneArray = np.ones((4,5))\n",
    "print(oneArray, oneArray.dtype)"
   ]
  },
  {
   "cell_type": "markdown",
   "metadata": {},
   "source": [
    "# Full"
   ]
  },
  {
   "cell_type": "code",
   "execution_count": 7,
   "metadata": {},
   "outputs": [
    {
     "name": "stdout",
     "output_type": "stream",
     "text": [
      "[[10. 10. 10. 10.]\n",
      " [10. 10. 10. 10.]\n",
      " [10. 10. 10. 10.]\n",
      " [10. 10. 10. 10.]] float64\n"
     ]
    }
   ],
   "source": [
    "fullArray = np.full((4,4), 10.)\n",
    "print(fullArray, fullArray.dtype)"
   ]
  },
  {
   "cell_type": "code",
   "execution_count": 8,
   "metadata": {},
   "outputs": [
    {
     "name": "stdout",
     "output_type": "stream",
     "text": [
      "[[1. 0. 0. 0. 0.]\n",
      " [0. 1. 0. 0. 0.]\n",
      " [0. 0. 1. 0. 0.]\n",
      " [0. 0. 0. 1. 0.]\n",
      " [0. 0. 0. 0. 1.]] float64\n"
     ]
    }
   ],
   "source": [
    "identityMatrix = np.eye(5)\n",
    "print(identityMatrix, identityMatrix.dtype)"
   ]
  },
  {
   "cell_type": "code",
   "execution_count": 9,
   "metadata": {},
   "outputs": [
    {
     "name": "stdout",
     "output_type": "stream",
     "text": [
      "[[10  0  0  0]\n",
      " [ 0 20  0  0]\n",
      " [ 0  0 30  0]\n",
      " [ 0  0  0 50]] int64\n"
     ]
    }
   ],
   "source": [
    "diagonalMatrix = np.diag([10,20,30,50])\n",
    "print(diagonalMatrix, diagonalMatrix.dtype)"
   ]
  },
  {
   "cell_type": "code",
   "execution_count": 10,
   "metadata": {},
   "outputs": [
    {
     "name": "stdout",
     "output_type": "stream",
     "text": [
      "[0 1 2 3 4 5 6 7 8 9]\n"
     ]
    }
   ],
   "source": [
    " # start, stop, step\n",
    "    # if only one then it is referred to as \"stop\" value\n",
    "random= np.arange(10)\n",
    "print(random)"
   ]
  },
  {
   "cell_type": "code",
   "execution_count": 12,
   "metadata": {},
   "outputs": [
    {
     "name": "stdout",
     "output_type": "stream",
     "text": [
      "[10 11 12 13 14 15 16 17 18 19 20 21 22 23 24 25 26 27 28 29 30 31 32 33\n",
      " 34 35 36 37 38 39]\n"
     ]
    }
   ],
   "source": [
    "# first value(inclusive) is start the last is stop(exclusive)\n",
    "random= np.arange(10,40)\n",
    "print(random)"
   ]
  },
  {
   "cell_type": "code",
   "execution_count": 13,
   "metadata": {},
   "outputs": [
    {
     "name": "stdout",
     "output_type": "stream",
     "text": [
      "[10 12 14 16 18 20 22 24 26 28 30 32 34 36 38]\n"
     ]
    }
   ],
   "source": [
    "#first value(inclusive) is start the last is stop(exclusive)\n",
    "random= np.arange(10,40,2)\n",
    "print(random)"
   ]
  },
  {
   "cell_type": "code",
   "execution_count": 21,
   "metadata": {},
   "outputs": [
    {
     "name": "stdout",
     "output_type": "stream",
     "text": [
      "[ 1.  2.  3.  4.  5.  6.  7.  8.  9. 10. 11. 12. 13. 14. 15. 16. 17. 18.\n",
      " 19. 20. 21. 22. 23. 24. 25. 26. 27. 28. 29. 30. 31. 32. 33. 34. 35. 36.\n",
      " 37. 38. 39. 40.]\n"
     ]
    }
   ],
   "source": [
    "# for non integer steps\n",
    "random = np.linspace(1, 40, 40)\n",
    "print(random)"
   ]
  },
  {
   "cell_type": "code",
   "execution_count": 20,
   "metadata": {},
   "outputs": [
    {
     "name": "stdout",
     "output_type": "stream",
     "text": [
      "[ 1.     1.975  2.95   3.925  4.9    5.875  6.85   7.825  8.8    9.775\n",
      " 10.75  11.725 12.7   13.675 14.65  15.625 16.6   17.575 18.55  19.525\n",
      " 20.5   21.475 22.45  23.425 24.4   25.375 26.35  27.325 28.3   29.275\n",
      " 30.25  31.225 32.2   33.175 34.15  35.125 36.1   37.075 38.05  39.025]\n"
     ]
    }
   ],
   "source": [
    "# for non integer steps\n",
    "random = np.linspace(1, 40, 40, endpoint= False)\n",
    "print(random)"
   ]
  },
  {
   "cell_type": "code",
   "execution_count": 28,
   "metadata": {},
   "outputs": [
    {
     "name": "stdout",
     "output_type": "stream",
     "text": [
      "[[ 1.  2.  3.  4.]\n",
      " [ 5.  6.  7.  8.]\n",
      " [ 9. 10. 11. 12.]\n",
      " [13. 14. 15. 16.]\n",
      " [17. 18. 19. 20.]\n",
      " [21. 22. 23. 24.]\n",
      " [25. 26. 27. 28.]\n",
      " [29. 30. 31. 32.]\n",
      " [33. 34. 35. 36.]\n",
      " [37. 38. 39. 40.]]\n"
     ]
    }
   ],
   "source": [
    "reshapeArray = np.reshape(random, (10,4))\n",
    "print(reshapeArray)"
   ]
  },
  {
   "cell_type": "markdown",
   "metadata": {},
   "source": [
    "    #Combining linspace and arange with reshape"
   ]
  },
  {
   "cell_type": "code",
   "execution_count": 32,
   "metadata": {},
   "outputs": [
    {
     "name": "stdout",
     "output_type": "stream",
     "text": [
      "[[ 0  1  2]\n",
      " [ 3  4  5]\n",
      " [ 6  7  8]\n",
      " [ 9 10 11]\n",
      " [12 13 14]\n",
      " [15 16 17]\n",
      " [18 19 20]\n",
      " [21 22 23]\n",
      " [24 25 26]\n",
      " [27 28 29]] [[ 0.]\n",
      " [ 2.]\n",
      " [ 4.]\n",
      " [ 6.]\n",
      " [ 8.]\n",
      " [10.]\n",
      " [12.]\n",
      " [14.]\n",
      " [16.]\n",
      " [18.]]\n"
     ]
    }
   ],
   "source": [
    "temp = np.arange(30).reshape(10,3)\n",
    "tem = np.linspace(0,20,10, endpoint=False).reshape(10,1)\n",
    "\n",
    "print(temp, tem)"
   ]
  },
  {
   "cell_type": "code",
   "execution_count": 33,
   "metadata": {},
   "outputs": [
    {
     "name": "stdout",
     "output_type": "stream",
     "text": [
      "[[0.35781054 0.98116171 0.25781244]\n",
      " [0.85143097 0.15954045 0.48423822]\n",
      " [0.75684572 0.82713699 0.57047186]]\n"
     ]
    }
   ],
   "source": [
    "x = np.random.random((3,3))\n",
    "print(x)"
   ]
  },
  {
   "cell_type": "code",
   "execution_count": 38,
   "metadata": {},
   "outputs": [
    {
     "name": "stdout",
     "output_type": "stream",
     "text": [
      "[[ 3  4  3  2]\n",
      " [ 1 11  1  2]\n",
      " [ 4 11 11 10]]\n"
     ]
    }
   ],
   "source": [
    "y = np.random.randint(1,12,(3,4))\n",
    "print(y)"
   ]
  },
  {
   "cell_type": "code",
   "execution_count": 41,
   "metadata": {},
   "outputs": [
    {
     "name": "stdout",
     "output_type": "stream",
     "text": [
      "[[ 0.12091074  0.07502343 -0.06098758 ...  0.125066   -0.08932041\n",
      "  -0.07281122]\n",
      " [-0.12629181  0.09841646 -0.06791312 ...  0.09230743  0.12104202\n",
      "  -0.22822976]\n",
      " [ 0.06652565  0.21074765 -0.13559044 ... -0.14758584  0.08916973\n",
      "   0.01822583]\n",
      " ...\n",
      " [ 0.09880392  0.12070143 -0.11702716 ...  0.06435464  0.13776154\n",
      "  -0.07965063]\n",
      " [ 0.12551451 -0.16846198 -0.2262297  ...  0.03900362  0.03465121\n",
      "   0.0132679 ]\n",
      " [ 0.02358032  0.15087969  0.05914536 ... -0.01228095 -0.03373164\n",
      "  -0.02628525]]\n"
     ]
    }
   ],
   "source": [
    "# prob distribution\n",
    "normal = np.random.normal(0, 0.1, size=(100,100))\n",
    "print(normal)"
   ]
  },
  {
   "cell_type": "code",
   "execution_count": 42,
   "metadata": {},
   "outputs": [
    {
     "name": "stdout",
     "output_type": "stream",
     "text": [
      "-0.001274023733632938\n",
      "0.10093745915530575\n",
      "0.38351447593822946\n",
      "-0.41032549991225703\n",
      "+ values -  4915\n",
      "- values -  5085\n"
     ]
    }
   ],
   "source": [
    "print(normal.mean())\n",
    "print(normal.std())\n",
    "print(normal.max())\n",
    "print(normal.min())\n",
    "print(\"+ values - \", (normal>0).sum())\n",
    "print(\"- values - \", (normal<0).sum())"
   ]
  },
  {
   "cell_type": "code",
   "execution_count": null,
   "metadata": {},
   "outputs": [],
   "source": []
  },
  {
   "cell_type": "code",
   "execution_count": null,
   "metadata": {},
   "outputs": [],
   "source": []
  }
 ],
 "metadata": {
  "kernelspec": {
   "display_name": "Python 3",
   "language": "python",
   "name": "python3"
  },
  "language_info": {
   "codemirror_mode": {
    "name": "ipython",
    "version": 3
   },
   "file_extension": ".py",
   "mimetype": "text/x-python",
   "name": "python",
   "nbconvert_exporter": "python",
   "pygments_lexer": "ipython3",
   "version": "3.7.4"
  }
 },
 "nbformat": 4,
 "nbformat_minor": 2
}
