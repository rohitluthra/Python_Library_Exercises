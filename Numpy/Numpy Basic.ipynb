{
 "cells": [
  {
   "cell_type": "code",
   "execution_count": 9,
   "metadata": {},
   "outputs": [],
   "source": [
    "import numpy as np\n",
    "import time"
   ]
  },
  {
   "cell_type": "code",
   "execution_count": 10,
   "metadata": {},
   "outputs": [],
   "source": [
    "variable = np.random.random(100000)\n",
    "start = time.time()"
   ]
  },
  {
   "cell_type": "code",
   "execution_count": 11,
   "metadata": {},
   "outputs": [
    {
     "name": "stdout",
     "output_type": "stream",
     "text": [
      "0.49932880644255934\n",
      "0.031419992446899414\n"
     ]
    }
   ],
   "source": [
    "print(sum(variable)/len(variable))\n",
    "print(time.time() - start)"
   ]
  },
  {
   "cell_type": "code",
   "execution_count": 12,
   "metadata": {},
   "outputs": [
    {
     "name": "stdout",
     "output_type": "stream",
     "text": [
      "0.04118180274963379\n"
     ]
    }
   ],
   "source": [
    "np.mean(variable)\n",
    "print(time.time() - start)"
   ]
  },
  {
   "cell_type": "code",
   "execution_count": 13,
   "metadata": {},
   "outputs": [],
   "source": [
    "# np Array\n",
    "newArray = np.array([1,2,3,4,5])"
   ]
  },
  {
   "cell_type": "code",
   "execution_count": 14,
   "metadata": {},
   "outputs": [
    {
     "name": "stdout",
     "output_type": "stream",
     "text": [
      "[1 2 3 4 5]\n",
      "<class 'numpy.ndarray'>\n"
     ]
    }
   ],
   "source": [
    "print(newArray)\n",
    "print(type(newArray))"
   ]
  },
  {
   "cell_type": "code",
   "execution_count": 15,
   "metadata": {},
   "outputs": [
    {
     "data": {
      "text/plain": [
       "(5,)"
      ]
     },
     "execution_count": 15,
     "metadata": {},
     "output_type": "execute_result"
    }
   ],
   "source": [
    "newArray.shape"
   ]
  },
  {
   "cell_type": "code",
   "execution_count": 16,
   "metadata": {},
   "outputs": [
    {
     "data": {
      "text/plain": [
       "dtype('int64')"
      ]
     },
     "execution_count": 16,
     "metadata": {},
     "output_type": "execute_result"
    }
   ],
   "source": [
    "newArray.dtype"
   ]
  },
  {
   "cell_type": "code",
   "execution_count": 17,
   "metadata": {},
   "outputs": [
    {
     "name": "stdout",
     "output_type": "stream",
     "text": [
      "[[0.36657089 0.12638269 0.87002248 0.82107978]\n",
      " [0.01466123 0.75960819 0.53932874 0.68999118]\n",
      " [0.28617694 0.03441686 0.73436027 0.30075287]]\n"
     ]
    }
   ],
   "source": [
    "randomArray = np.random.rand(3,4)\n",
    "print(randomArray)"
   ]
  },
  {
   "cell_type": "code",
   "execution_count": 19,
   "metadata": {},
   "outputs": [
    {
     "name": "stdout",
     "output_type": "stream",
     "text": [
      "(3, 4) float64 12\n"
     ]
    }
   ],
   "source": [
    "print(randomArray.shape, randomArray.dtype, randomArray.size)"
   ]
  },
  {
   "cell_type": "code",
   "execution_count": 20,
   "metadata": {},
   "outputs": [
    {
     "name": "stdout",
     "output_type": "stream",
     "text": [
      "(3,) <U21 3 <class 'numpy.ndarray'>\n",
      "(2,) <U5 2 <class 'numpy.ndarray'>\n"
     ]
    }
   ],
   "source": [
    "randomArray_1 = np.array([1,2,\"Hello\"])\n",
    "print(randomArray_1.shape, randomArray_1.dtype, randomArray_1.size, type(randomArray_1))\n",
    "\n",
    "randomArray_2 = np.array([\"Hello\", \"World\"])\n",
    "print(randomArray_2.shape, randomArray_2.dtype, randomArray_2.size, type(randomArray_2))\n",
    "\n"
   ]
  },
  {
   "cell_type": "code",
   "execution_count": 21,
   "metadata": {},
   "outputs": [
    {
     "name": "stdout",
     "output_type": "stream",
     "text": [
      "(4,) float64 4 <class 'numpy.ndarray'>\n"
     ]
    }
   ],
   "source": [
    "randomArray_2 = np.array([1,2.5,5,6.7])\n",
    "print(randomArray_2.shape, randomArray_2.dtype, randomArray_2.size, type(randomArray_2))\n"
   ]
  },
  {
   "cell_type": "code",
   "execution_count": 25,
   "metadata": {},
   "outputs": [
    {
     "name": "stdout",
     "output_type": "stream",
     "text": [
      "(4,) int64 4 <class 'numpy.ndarray'>\n"
     ]
    }
   ],
   "source": [
    "randomArray_2 = np.array([1,2.5,5,6.7], dtype = np.int64)\n",
    "print(randomArray_2.shape, randomArray_2.dtype, randomArray_2.size, type(randomArray_2))\n"
   ]
  },
  {
   "cell_type": "code",
   "execution_count": 26,
   "metadata": {},
   "outputs": [],
   "source": [
    "savingFile = np.array([1,2,3,4,5,5,67,7])\n",
    "np.save('mySavedArray', savingFile) # mySavedArray.npy"
   ]
  },
  {
   "cell_type": "code",
   "execution_count": 27,
   "metadata": {},
   "outputs": [
    {
     "data": {
      "text/plain": [
       "array([ 1,  2,  3,  4,  5,  5, 67,  7])"
      ]
     },
     "execution_count": 27,
     "metadata": {},
     "output_type": "execute_result"
    }
   ],
   "source": [
    "np.load(\"mySavedArray.npy\")"
   ]
  },
  {
   "cell_type": "code",
   "execution_count": null,
   "metadata": {},
   "outputs": [],
   "source": []
  }
 ],
 "metadata": {
  "kernelspec": {
   "display_name": "Python 3",
   "language": "python",
   "name": "python3"
  },
  "language_info": {
   "codemirror_mode": {
    "name": "ipython",
    "version": 3
   },
   "file_extension": ".py",
   "mimetype": "text/x-python",
   "name": "python",
   "nbconvert_exporter": "python",
   "pygments_lexer": "ipython3",
   "version": "3.7.4"
  }
 },
 "nbformat": 4,
 "nbformat_minor": 2
}
